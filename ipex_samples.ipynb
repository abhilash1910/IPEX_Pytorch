{
  "cells": [
    {
      "cell_type": "markdown",
      "metadata": {
        "id": "view-in-github",
        "colab_type": "text"
      },
      "source": [
        "<a href=\"https://colab.research.google.com/github/abhilash1910/IPEX_Pytorch/blob/main/ipex_samples.ipynb\" target=\"_parent\"><img src=\"https://colab.research.google.com/assets/colab-badge.svg\" alt=\"Open In Colab\"/></a>"
      ]
    },
    {
      "cell_type": "code",
      "execution_count": null,
      "metadata": {
        "id": "fgK0B1WAlF33"
      },
      "outputs": [],
      "source": [
        "%matplotlib inline"
      ]
    },
    {
      "cell_type": "markdown",
      "metadata": {
        "id": "_93zdC3elF36"
      },
      "source": [
        "\n",
        "Intel® Extension for PyTorch*\n",
        "*******************************\n",
        "**Author**: `Abhilash Majumder <https://github.com/abhilash1910>`_\n",
        "\n",
        "Intel Extension for PyTorch* extends PyTorch with optimizations for extra\n",
        "performance boost on Intel hardware. Most of the optimizations will be\n",
        "included in stock PyTorch releases eventually, and the intention of the\n",
        "extension is to deliver up to date features and optimizations for PyTorch\n",
        "on Intel hardware, examples include AVX-512 Vector Neural Network\n",
        "Instructions (AVX512 VNNI) and Intel® Advanced Matrix Extensions (Intel® AMX).\n",
        "\n",
        "Intel® Extension for PyTorch* has been released as an open–source project\n",
        "at `Github <https://github.com/intel/intel-extension-for-pytorch>`_.\n",
        "\n",
        "Features\n",
        "--------\n",
        "\n",
        "* Ease-of-use Python API: Intel® Extension for PyTorch* provides simple\n",
        "  frontend Python APIs and utilities for users to get performance optimizations\n",
        "  such as graph optimization and operator optimization with minor code changes.\n",
        "  Typically, only 2 to 3 clauses are required to be added to the original code.\n",
        "* Channels Last: Comparing to the default NCHW memory format, channels_last\n",
        "  (NHWC) memory format could further accelerate convolutional neural networks.\n",
        "  In Intel® Extension for PyTorch*, NHWC memory format has been enabled for\n",
        "  most key CPU operators, though not all of them have been merged to PyTorch\n",
        "  master branch yet. They are expected to be fully landed in PyTorch upstream\n",
        "  soon.\n",
        "* Auto Mixed Precision (AMP): Low precision data type BFloat16 has been\n",
        "  natively supported on the 3rd Generation Xeon scalable Servers (aka Cooper\n",
        "  Lake) with AVX512 instruction set and will be supported on the next\n",
        "  generation of Intel® Xeon® Scalable Processors with Intel® Advanced Matrix\n",
        "  Extensions (Intel® AMX) instruction set with further boosted performance. The\n",
        "  support of Auto Mixed Precision (AMP) with BFloat16 for CPU and BFloat16\n",
        "  optimization of operators have been massively enabled in Intel® Extension\n",
        "  for PyTorch*, and partially upstreamed to PyTorch master branch. Most of\n",
        "  these optimizations will be landed in PyTorch master through PRs that are\n",
        "  being submitted and reviewed.\n",
        "* Graph Optimization: To optimize performance further with torchscript,\n",
        "  Intel® Extension for PyTorch* supports fusion of frequently used operator\n",
        "  patterns, like Conv2D+ReLU, Linear+ReLU, etc. The benefit of the fusions are\n",
        "  delivered to users in a transparent fashion. Detailed fusion patterns\n",
        "  supported can be found `here <https://github.com/intel/intel-extension-for-pytorch>`_.\n",
        "  The graph optimization will be up-streamed to PyTorch with the introduction\n",
        "  of oneDNN Graph API.\n",
        "* Operator Optimization: Intel® Extension for PyTorch* also optimizes\n",
        "  operators and implements several customized operators for performance. A few\n",
        "  ATen operators are replaced by their optimized counterparts in Intel®\n",
        "  Extension for PyTorch* via ATen registration mechanism. Moreover, some\n",
        "  customized operators are implemented for several popular topologies. For\n",
        "  instance, ROIAlign and NMS are defined in Mask R-CNN. To improve performance\n",
        "  of these topologies, Intel® Extension for PyTorch* also optimized these\n",
        "  customized operators.\n",
        "\n"
      ]
    },
    {
      "cell_type": "markdown",
      "metadata": {
        "id": "4YdMjQLclF38"
      },
      "source": [
        "Getting Started\n",
        "---------------\n",
        "\n"
      ]
    },
    {
      "cell_type": "markdown",
      "metadata": {
        "id": "WgJLt9PMlF38"
      },
      "source": [
        "Minor code changes are required for users to get start with Intel® Extension\n",
        "for PyTorch*. Both PyTorch imperative mode and TorchScript mode are\n",
        "supported. This section introduces usage of Intel® Extension for PyTorch* API\n",
        "functions for both imperative mode and TorchScript mode, covering data type\n",
        "Float32 and BFloat16. C++ usage will also be introduced at the end.\n",
        "\n"
      ]
    },
    {
      "cell_type": "markdown",
      "metadata": {
        "id": "XNerOBYJlF39"
      },
      "source": [
        "You just need to import Intel® Extension for PyTorch* package and apply its\n",
        "optimize function against the model object. If it is a training workload, the\n",
        "optimize function also needs to be applied against the optimizer object.\n",
        "\n"
      ]
    },
    {
      "cell_type": "markdown",
      "metadata": {
        "id": "hA-TnsnzlF39"
      },
      "source": [
        "For training and inference with BFloat16 data type, torch.cpu.amp has been\n",
        "enabled in PyTorch upstream to support mixed precision with convenience, and\n",
        "BFloat16 datatype has been enabled excessively for CPU operators in PyTorch\n",
        "upstream and Intel® Extension for PyTorch*. Running torch.cpu.amp will match\n",
        "each operator to its appropriate datatype and returns the best possible\n",
        "performance.\n",
        "\n"
      ]
    },
    {
      "cell_type": "markdown",
      "metadata": {
        "id": "M0ZAHxNElF3-"
      },
      "source": [
        "The code changes that are required for Intel® Extension for PyTorch* are\n",
        "highlighted with comments in a line above.\n",
        "\n"
      ]
    },
    {
      "cell_type": "markdown",
      "metadata": {
        "id": "SU83u_SMlF3-"
      },
      "source": [
        "Training\n",
        "~~~~~~~~\n",
        "\n"
      ]
    },
    {
      "cell_type": "markdown",
      "metadata": {
        "id": "52ifF1gslF3_"
      },
      "source": [
        "Float32\n",
        "^^^^^^^\n",
        "\n"
      ]
    },
    {
      "cell_type": "code",
      "execution_count": null,
      "metadata": {
        "id": "s24ijMX2lF3_"
      },
      "outputs": [],
      "source": [
        "import torch\n",
        "import torch.nn as nn\n",
        "# Import intel_extension_for_pytorch\n",
        "import intel_extension_for_pytorch as ipex\n",
        "\n",
        "class Model(nn.Module):\n",
        "    def __init__(self):\n",
        "        super(Model, self).__init__()\n",
        "        self.linear = nn.Linear(4, 5)\n",
        "\n",
        "    def forward(self, input):\n",
        "        return self.linear(input)\n",
        "\n",
        "model = Model()\n",
        "model.set_state_dict(torch.load(PATH))\n",
        "optimizer.set_state_dict(torch.load(PATH))\n",
        "# Invoke optimize function against the model object and optimizer object\n",
        "model, optimizer = ipex.optimize(model, optimizer, dtype=torch.float32)\n",
        "\n",
        "for images, label in train_loader():\n",
        "    # Setting memory_format to torch.channels_last could improve performance with 4D input data. This is optional.\n",
        "    images = images.to(memory_format=torch.channels_last)\n",
        "    loss = criterion(model(images), label)\n",
        "    loss.backward()\n",
        "    optimizer.step()\n",
        "torch.save(model.state_dict(), PATH)\n",
        "torch.save(optimizer.state_dict(), PATH)"
      ]
    },
    {
      "cell_type": "markdown",
      "metadata": {
        "id": "rLUG9wPolF3_"
      },
      "source": [
        "BFloat16\n",
        "^^^^^^^^\n",
        "\n"
      ]
    },
    {
      "cell_type": "code",
      "execution_count": null,
      "metadata": {
        "id": "9z2VFaC1lF4A"
      },
      "outputs": [],
      "source": [
        "import torch\n",
        "import torch.nn as nn\n",
        "# Import intel_extension_for_pytorch\n",
        "import intel_extension_for_pytorch as ipex\n",
        "\n",
        "class Model(nn.Module):\n",
        "    def __init__(self):\n",
        "        super(Model, self).__init__()\n",
        "        self.linear = nn.Linear(4, 5)\n",
        "\n",
        "    def forward(self, input):\n",
        "        return self.linear(input)\n",
        "\n",
        "model = Model()\n",
        "model.set_state_dict(torch.load(PATH))\n",
        "optimizer.set_state_dict(torch.load(PATH))\n",
        "# Invoke optimize function against the model object and optimizer object with data type set to torch.bfloat16\n",
        "model, optimizer = ipex.optimize(model, optimizer, dtype=torch.bfloat16)\n",
        "\n",
        "for images, label in train_loader():\n",
        "    with torch.cpu.amp.autocast():\n",
        "        # Setting memory_format to torch.channels_last could improve performance with 4D input data. This is optional.\n",
        "        images = images.to(memory_format=torch.channels_last)\n",
        "        loss = criterion(model(images), label)\n",
        "    loss.backward()\n",
        "    optimizer.step()\n",
        "torch.save(model.state_dict(), PATH)\n",
        "torch.save(optimizer.state_dict(), PATH)"
      ]
    },
    {
      "cell_type": "markdown",
      "metadata": {
        "id": "aP2s-YT2lF4A"
      },
      "source": [
        "Inference - Imperative Mode\n",
        "~~~~~~~~~~~~~~~~~~~~~~~~~~~\n",
        "\n"
      ]
    },
    {
      "cell_type": "markdown",
      "metadata": {
        "id": "QOh7suH1lF4A"
      },
      "source": [
        "Float32\n",
        "\"\"\"\"\"\"\"\n",
        "\n"
      ]
    },
    {
      "cell_type": "code",
      "execution_count": null,
      "metadata": {
        "id": "Fiv7xwwHlF4B"
      },
      "outputs": [],
      "source": [
        "import torch\n",
        "import torch.nn as nn\n",
        "# Import intel_extension_for_pytorch\n",
        "import intel_extension_for_pytorch as ipex\n",
        "\n",
        "class Model(nn.Module):\n",
        "    def __init__(self):\n",
        "        super(Model, self).__init__()\n",
        "        self.linear = nn.Linear(4, 5)\n",
        "\n",
        "    def forward(self, input):\n",
        "        return self.linear(input)\n",
        "\n",
        "input = torch.randn(2, 4)\n",
        "model = Model()\n",
        "model.eval()\n",
        "# Invoke optimize function against the model object\n",
        "model = ipex.optimize(model, dtype=torch.float32)\n",
        "res = model(input)"
      ]
    },
    {
      "cell_type": "markdown",
      "metadata": {
        "id": "5atiG9iblF4B"
      },
      "source": [
        "BFloat16\n",
        "^^^^^^^^\n",
        "\n"
      ]
    },
    {
      "cell_type": "code",
      "execution_count": null,
      "metadata": {
        "id": "CHouxeAIlF4B"
      },
      "outputs": [],
      "source": [
        "import torch\n",
        "import torch.nn as nn\n",
        "# Import intel_extension_for_pytorch\n",
        "import intel_extension_for_pytorch as ipex\n",
        "\n",
        "class Model(nn.Module):\n",
        "    def __init__(self):\n",
        "        super(Model, self).__init__()\n",
        "        self.linear = nn.Linear(4, 5)\n",
        "\n",
        "    def forward(self, input):\n",
        "        return self.linear(input)\n",
        "\n",
        "input = torch.randn(2, 4)\n",
        "model = Model()\n",
        "model.eval()\n",
        "# Invoke optimize function against the model object with data type set to torch.bfloat16\n",
        "model = ipex.optimize(model, dtype=torch.bfloat16)\n",
        "with torch.cpu.amp.autocast():\n",
        "    res = model(input)"
      ]
    },
    {
      "cell_type": "markdown",
      "metadata": {
        "id": "wqhD01wKlF4B"
      },
      "source": [
        "Inference - TorchScript Mode\n",
        "~~~~~~~~~~~~~~~~~~~~~~~~~~~~\n",
        "\n"
      ]
    },
    {
      "cell_type": "markdown",
      "metadata": {
        "id": "tPBtQgSYlF4C"
      },
      "source": [
        "TorchScript mode makes graph optimization possible, hence improves\n",
        "performance for some topologies. Intel® Extension for PyTorch* enables most\n",
        "commonly used operator pattern fusion, and users can get the performance\n",
        "benefit without additional code changes.\n",
        "\n"
      ]
    },
    {
      "cell_type": "markdown",
      "metadata": {
        "id": "WhRdx4NwlF4C"
      },
      "source": [
        "Float32\n",
        "\"\"\"\"\"\"\"\n",
        "\n"
      ]
    },
    {
      "cell_type": "code",
      "execution_count": null,
      "metadata": {
        "id": "clBDEa2qlF4C"
      },
      "outputs": [],
      "source": [
        "import torch\n",
        "import torch.nn as nn\n",
        "# Import intel_extension_for_pytorch\n",
        "import intel_extension_for_pytorch as ipex\n",
        "\n",
        "# oneDNN graph fusion is enabled by default, uncomment the line below to disable it explicitly\n",
        "# ipex.enable_onednn_fusion(False)\n",
        "\n",
        "class Model(nn.Module):\n",
        "    def __init__(self):\n",
        "        super(Model, self).__init__()\n",
        "        self.linear = nn.Linear(4, 5)\n",
        "\n",
        "    def forward(self, input):\n",
        "        return self.linear(input)\n",
        "\n",
        "input = torch.randn(2, 4)\n",
        "model = Model()\n",
        "model.eval()\n",
        "# Invoke optimize function against the model object\n",
        "model = ipex.optimize(model, dtype=torch.float32)\n",
        "model = torch.jit.trace(model, torch.randn(2, 4))\n",
        "model = torch.jit.freeze(model)\n",
        "res = model(input)"
      ]
    },
    {
      "cell_type": "markdown",
      "metadata": {
        "id": "pue8owUQlF4C"
      },
      "source": [
        "BFloat16\n",
        "^^^^^^^^\n",
        "\n"
      ]
    },
    {
      "cell_type": "code",
      "execution_count": null,
      "metadata": {
        "id": "_p_37Ki6lF4D"
      },
      "outputs": [],
      "source": [
        "import torch\n",
        "import torch.nn as nn\n",
        "# Import intel_extension_for_pytorch\n",
        "import intel_extension_for_pytorch as ipex\n",
        "\n",
        "# oneDNN graph fusion is enabled by default, uncomment the line below to disable it explicitly\n",
        "# ipex.enable_onednn_fusion(False)\n",
        "\n",
        "class Model(nn.Module):\n",
        "    def __init__(self):\n",
        "        super(Model, self).__init__()\n",
        "        self.linear = nn.Linear(4, 5)\n",
        "\n",
        "    def forward(self, input):\n",
        "        return self.linear(input)\n",
        "\n",
        "input = torch.randn(2, 4)\n",
        "model = Model()\n",
        "model.eval()\n",
        "# Invoke optimize function against the model with data type set to torch.bfloat16\n",
        "model = ipex.optimize(model, dtype=torch.bfloat16)\n",
        "with torch.cpu.amp.autocast():\n",
        "    model = torch.jit.trace(model, torch.randn(2, 4))\n",
        "    model = torch.jit.freeze(model)\n",
        "    res = model(input)"
      ]
    },
    {
      "cell_type": "markdown",
      "source": [
        "###CIFAR FP32"
      ],
      "metadata": {
        "id": "X1mqViju1znR"
      }
    },
    {
      "cell_type": "code",
      "source": [
        "import torch\n",
        "import torchvision\n",
        "import intel_extension_for_pytorch as ipex\n",
        "\n",
        "LR = 0.001\n",
        "DOWNLOAD = True\n",
        "DATA = 'datasets/cifar10/'\n",
        "\n",
        "transform = torchvision.transforms.Compose([\n",
        "    torchvision.transforms.Resize((224, 224)),\n",
        "    torchvision.transforms.ToTensor(),\n",
        "    torchvision.transforms.Normalize((0.5, 0.5, 0.5), (0.5, 0.5, 0.5))\n",
        "])\n",
        "train_dataset = torchvision.datasets.CIFAR10(\n",
        "        root=DATA,\n",
        "        train=True,\n",
        "        transform=transform,\n",
        "        download=DOWNLOAD,\n",
        ")\n",
        "train_loader = torch.utils.data.DataLoader(\n",
        "        dataset=train_dataset,\n",
        "        batch_size=128\n",
        ")\n",
        "\n",
        "model = torchvision.models.resnet50()\n",
        "criterion = torch.nn.CrossEntropyLoss()\n",
        "optimizer = torch.optim.SGD(model.parameters(), lr = LR, momentum=0.9)\n",
        "model.train()\n",
        "model, optimizer = ipex.optimize(model, optimizer=optimizer)\n",
        "\n",
        "for batch_idx, (data, target) in enumerate(train_loader):\n",
        "    optimizer.zero_grad()\n",
        "    output = model(data)\n",
        "    loss = criterion(output, target)\n",
        "    loss.backward()\n",
        "    optimizer.step()\n",
        "    print(batch_idx)\n",
        "torch.save({\n",
        "     'model_state_dict': model.state_dict(),\n",
        "     'optimizer_state_dict': optimizer.state_dict(),\n",
        "     }, 'checkpoint.pth')"
      ],
      "metadata": {
        "id": "fII1-geq1ujB"
      },
      "execution_count": null,
      "outputs": []
    },
    {
      "cell_type": "markdown",
      "source": [
        "##Resnet IPEX Torch DDP"
      ],
      "metadata": {
        "id": "QYtFBUL_1_8J"
      }
    },
    {
      "cell_type": "code",
      "source": [
        "import os\n",
        "import torch\n",
        "import torch.distributed as dist\n",
        "import torchvision\n",
        "import oneccl_bindings_for_pytorch as torch_ccl\n",
        "import intel_extension_for_pytorch as ipex\n",
        "\n",
        "LR = 0.001\n",
        "DOWNLOAD = True\n",
        "DATA = 'datasets/cifar10/'\n",
        "\n",
        "transform = torchvision.transforms.Compose([\n",
        "    torchvision.transforms.Resize((224, 224)),\n",
        "    torchvision.transforms.ToTensor(),\n",
        "    torchvision.transforms.Normalize((0.5, 0.5, 0.5), (0.5, 0.5, 0.5))\n",
        "])\n",
        "train_dataset = torchvision.datasets.CIFAR10(\n",
        "        root=DATA,\n",
        "        train=True,\n",
        "        transform=transform,\n",
        "        download=DOWNLOAD,\n",
        ")\n",
        "train_loader = torch.utils.data.DataLoader(\n",
        "        dataset=train_dataset,\n",
        "        batch_size=128\n",
        ")\n",
        "\n",
        "os.environ['MASTER_ADDR'] = '127.0.0.1'\n",
        "os.environ['MASTER_PORT'] = '29500'\n",
        "os.environ['RANK'] = os.environ.get('PMI_RANK', 0)\n",
        "os.environ['WORLD_SIZE'] = os.environ.get('PMI_SIZE', 1)\n",
        "dist.init_process_group(\n",
        "backend='ccl',\n",
        "init_method='env://'\n",
        ")\n",
        "\n",
        "model = torchvision.models.resnet50()\n",
        "criterion = torch.nn.CrossEntropyLoss()\n",
        "optimizer = torch.optim.SGD(model.parameters(), lr = LR, momentum=0.9)\n",
        "model.train()\n",
        "model, optimizer = ipex.optimize(model, optimizer=optimizer)\n",
        "\n",
        "model = torch.nn.parallel.DistributedDataParallel(model)\n",
        "\n",
        "for batch_idx, (data, target) in enumerate(train_loader):\n",
        "    optimizer.zero_grad()\n",
        "    output = model(data)\n",
        "    loss = criterion(output, target)\n",
        "    loss.backward()\n",
        "    optimizer.step()\n",
        "    print('batch_id: {}'.format(batch_idx))\n",
        "torch.save({\n",
        "     'model_state_dict': model.state_dict(),\n",
        "     'optimizer_state_dict': optimizer.state_dict(),\n",
        "     }, 'checkpoint.pth')"
      ],
      "metadata": {
        "id": "QWm4yvrE1-4u"
      },
      "execution_count": null,
      "outputs": []
    },
    {
      "cell_type": "markdown",
      "source": [
        "##BERT Inference Torch JIT IPEX"
      ],
      "metadata": {
        "id": "kLwJwult2TDl"
      }
    },
    {
      "cell_type": "code",
      "source": [
        "import torch\n",
        "from transformers import BertModel\n",
        "\n",
        "model = BertModel.from_pretrained(args.model_name)\n",
        "model.eval()\n",
        "\n",
        "vocab_size = model.config.vocab_size\n",
        "batch_size = 1\n",
        "seq_length = 512\n",
        "data = torch.randint(vocab_size, size=[batch_size, seq_length])\n",
        "\n",
        "#################### code changes ####################\n",
        "import intel_extension_for_pytorch as ipex\n",
        "model = ipex.optimize(model)\n",
        "######################################################\n",
        "\n",
        "with torch.no_grad():\n",
        "  d = torch.randint(vocab_size, size=[batch_size, seq_length])\n",
        "  model = torch.jit.trace(model, (d,), check_trace=False, strict=False)\n",
        "  model = torch.jit.freeze(model)\n",
        "\n",
        "  model(data)"
      ],
      "metadata": {
        "id": "5-VGMyoF2K0s"
      },
      "execution_count": null,
      "outputs": []
    },
    {
      "cell_type": "markdown",
      "metadata": {
        "id": "qoKM0106lF4D"
      },
      "source": [
        "C++\n",
        "~~~\n",
        "\n"
      ]
    },
    {
      "cell_type": "markdown",
      "metadata": {
        "id": "iTQ88buflF4D"
      },
      "source": [
        "To work with libtorch, C++ library of PyTorch, Intel® Extension for PyTorch*\n",
        "provides its C++ dynamic library as well. The C++ library is supposed to handle\n",
        "inference workload only, such as service deployment. For regular development,\n",
        "please use Python interface. Comparing to usage of libtorch, no specific code\n",
        "changes are required, except for converting input data into channels last data\n",
        "format. Compilation follows the recommended methodology with CMake. Detailed\n",
        "instructions can be found in `PyTorch tutorial <https://pytorch.org/tutorials/advanced/cpp_export.html#depending-on-libtorch-and-building-the-application>`_.\n",
        "During compilation, Intel optimizations will be activated automatically\n",
        "once C++ dynamic library of Intel® Extension for PyTorch* is linked.\n",
        "\n"
      ]
    },
    {
      "cell_type": "markdown",
      "metadata": {
        "id": "dZZZJptGlF4E"
      },
      "source": [
        "**example-app.cpp**\n",
        "\n"
      ]
    },
    {
      "cell_type": "code",
      "execution_count": null,
      "metadata": {
        "id": "N98i7OrblF4E"
      },
      "outputs": [],
      "source": [
        "'''\n",
        "#include <torch/script.h>\n",
        "#include <iostream>\n",
        "#include <memory>\n",
        "\n",
        "int main(int argc, const char* argv[]) {\n",
        "    torch::jit::script::Module module;\n",
        "    try {\n",
        "        module = torch::jit::load(argv[1]);\n",
        "    }\n",
        "    catch (const c10::Error& e) {\n",
        "        std::cerr << \"error loading the model\\n\";\n",
        "        return -1;\n",
        "    }\n",
        "    std::vector<torch::jit::IValue> inputs;\n",
        "    // make sure input data are converted to channels last format\n",
        "    inputs.push_back(torch::ones({1, 3, 224, 224}).to(c10::MemoryFormat::ChannelsLast));\n",
        "\n",
        "    at::Tensor output = module.forward(inputs).toTensor();\n",
        "\n",
        "    return 0;\n",
        "}\n",
        "'''"
      ]
    },
    {
      "cell_type": "markdown",
      "metadata": {
        "id": "rAL9nIROlF4E"
      },
      "source": [
        "**CMakeList.txt**\n",
        "\n"
      ]
    },
    {
      "cell_type": "code",
      "execution_count": null,
      "metadata": {
        "id": "ZOWZqGNFlF4E"
      },
      "outputs": [],
      "source": [
        "'''\n",
        "cmake_minimum_required(VERSION 3.0 FATAL_ERROR)\n",
        "project(example-app)\n",
        "\n",
        "find_package(Torch REQUIRED)\n",
        "set(CMAKE_CXX_FLAGS \"${CMAKE_CXX_FLAGS} ${TORCH_CXX_FLAGS} -Wl,--no-as-needed\")\n",
        "\n",
        "add_executable(example-app example-app.cpp)\n",
        "# Link the binary against the C++ dynamic library file of Intel® Extension for PyTorch*\n",
        "target_link_libraries(example-app \"${TORCH_LIBRARIES}\" \"${INTEL_EXTENSION_FOR_PYTORCH_PATH}/lib/libintel-ext-pt-cpu.so\")\n",
        "\n",
        "set_property(TARGET example-app PROPERTY CXX_STANDARD 14)\n",
        "'''"
      ]
    },
    {
      "cell_type": "markdown",
      "metadata": {
        "id": "8LmNSalclF4F"
      },
      "source": [
        "**Note:** Since Intel® Extension for PyTorch* is still under development, name of\n",
        "the c++ dynamic library in the master branch may defer to\n",
        "*libintel-ext-pt-cpu.so* shown above. Please check the name out in the\n",
        "installation folder. The so file name starts with *libintel-*.\n",
        "\n"
      ]
    },
    {
      "cell_type": "markdown",
      "metadata": {
        "id": "U68UVRfClF4F"
      },
      "source": [
        "**Command for compilation**\n",
        "\n"
      ]
    },
    {
      "cell_type": "code",
      "execution_count": null,
      "metadata": {
        "id": "ykEVFnmPlF4F"
      },
      "outputs": [],
      "source": [
        "'''\n",
        "cmake -DCMAKE_PREFIX_PATH=<LIBPYTORCH_PATH> -DINTEL_EXTENSION_FOR_PYTORCH_PATH=<INTEL_EXTENSION_FOR_PYTORCH_INSTALLATION_PATH> ..\n",
        "'''"
      ]
    },
    {
      "cell_type": "markdown",
      "metadata": {
        "id": "2W5HRBBjlF4F"
      },
      "source": [
        "Tutorials\n",
        "---------\n",
        "\n"
      ]
    },
    {
      "cell_type": "markdown",
      "metadata": {
        "id": "72OJlpCslF4F"
      },
      "source": [
        "Please visit `Intel® Extension for PyTorch* Github repo <https://github.com/intel/intel-extension-for-pytorch>`_ for more tutorials.\n",
        "\n"
      ]
    }
  ],
  "metadata": {
    "kernelspec": {
      "display_name": "Python 3",
      "language": "python",
      "name": "python3"
    },
    "language_info": {
      "codemirror_mode": {
        "name": "ipython",
        "version": 3
      },
      "file_extension": ".py",
      "mimetype": "text/x-python",
      "name": "python",
      "nbconvert_exporter": "python",
      "pygments_lexer": "ipython3",
      "version": "3.6.13"
    },
    "colab": {
      "provenance": [],
      "include_colab_link": true
    }
  },
  "nbformat": 4,
  "nbformat_minor": 0
}